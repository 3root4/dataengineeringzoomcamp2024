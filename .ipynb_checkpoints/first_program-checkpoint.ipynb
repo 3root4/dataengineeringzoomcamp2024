{
 "cells": [
  {
   "cell_type": "code",
   "execution_count": 2,
   "id": "8f808c8b-a466-4df4-a3e1-0998d2345af7",
   "metadata": {},
   "outputs": [
    {
     "name": "stdout",
     "output_type": "stream",
     "text": [
      "Hello World in codespaces!\n"
     ]
    }
   ],
   "source": [
    "print('Hello World in codespaces!')"
   ]
  }
 ],
 "metadata": {
  "kernelspec": {
   "display_name": "Python 3 (ipykernel)",
   "language": "python",
   "name": "python3"
  },
  "language_info": {
   "codemirror_mode": {
    "name": "ipython",
    "version": 3
   },
   "file_extension": ".py",
   "mimetype": "text/x-python",
   "name": "python",
   "nbconvert_exporter": "python",
   "pygments_lexer": "ipython3",
   "version": "3.10.13"
  }
 },
 "nbformat": 4,
 "nbformat_minor": 5
}
